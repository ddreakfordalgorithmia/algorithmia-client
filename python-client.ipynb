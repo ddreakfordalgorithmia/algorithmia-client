{
 "cells": [
  {
   "cell_type": "markdown",
   "id": "d5bf7e02",
   "metadata": {},
   "source": [
    "# Python Client Examples"
   ]
  },
  {
   "cell_type": "markdown",
   "id": "f8fb6ce2",
   "metadata": {},
   "source": [
    "## Credit Card Approval\n",
    "For detailed usage instructions, see [algorithmia_se/CreditCardApproval/docs](https://algosales.productionize.ai/algorithms/algorithmia_se/CreditCardApproval/docs)"
   ]
  },
  {
   "cell_type": "code",
   "execution_count": 1,
   "id": "62966469",
   "metadata": {},
   "outputs": [
    {
     "data": {
      "text/plain": [
       "<Algorithmia.algorithm.Algorithm at 0x7fcef55b1880>"
      ]
     },
     "execution_count": 1,
     "metadata": {},
     "output_type": "execute_result"
    }
   ],
   "source": [
    "# Python client setup\n",
    "import Algorithmia\n",
    "import os\n",
    "\n",
    "client = Algorithmia.client(os.getenv('ALGO_API_KEY'), 'https://api.algosales.productionize.ai')\n",
    "algo = client.algo('algorithmia_se/CreditCardApproval/1.0.6')\n",
    "algo.set_options(timeout=300) # optional"
   ]
  },
  {
   "cell_type": "code",
   "execution_count": null,
   "id": "f6babe44",
   "metadata": {},
   "outputs": [],
   "source": [
    "# Approved credit card\n",
    "\n",
    "input = {\n",
    "  \"high_balance\": 0,\n",
    "  \"owns_home\": 1,\n",
    "  \"child_one\": 0,\n",
    "  \"child_two_plus\": 0,\n",
    "  \"has_work_phone\": 0,\n",
    "  \"age_high\": 0,\n",
    "  \"age_highest\": 1,\n",
    "  \"age_low\": 0,\n",
    "  \"age_lowest\": 0,\n",
    "  \"employment_duration_high\": 0,\n",
    "  \"employment_duration_highest\": 0,\n",
    "  \"employment_duration_low\": 0,\n",
    "  \"employment_duration_medium\": 0,\n",
    "  \"occupation_hightech\": 0,\n",
    "  \"occupation_office\": 1,\n",
    "  \"family_size_one\": 1,\n",
    "  \"family_size_three_plus\": 0,\n",
    "  \"housing_coop_apartment\": 0,\n",
    "  \"housing_municipal_apartment\": 0,\n",
    "  \"housing_office_apartment\": 0,\n",
    "  \"housing_rented_apartment\": 0,\n",
    "  \"housing_with_parents\": 0,\n",
    "  \"education_higher_education\": 0,\n",
    "  \"education_incomplete_higher\": 0,\n",
    "  \"education_lower_secondary\": 0,\n",
    "  \"marital_civil_marriage\": 0,\n",
    "  \"marital_separated\": 0,\n",
    "  \"marital_single_not_married\": 1,\n",
    "  \"marital_widow\": 0\n",
    "}\n",
    "\n",
    "print(algo.pipe(input).result)"
   ]
  },
  {
   "cell_type": "code",
   "execution_count": null,
   "id": "4ab6a744",
   "metadata": {},
   "outputs": [],
   "source": []
  },
  {
   "cell_type": "markdown",
   "id": "87462fa6",
   "metadata": {},
   "source": [
    "## Sentiment Analysis"
   ]
  },
  {
   "cell_type": "code",
   "execution_count": 1,
   "id": "fe255c1f",
   "metadata": {},
   "outputs": [
    {
     "name": "stdout",
     "output_type": "stream",
     "text": [
      "{'sentiment': 1}\n"
     ]
    }
   ],
   "source": [
    "import Algorithmia\n",
    "from Algorithmia.errors import AlgorithmException\n",
    "\n",
    "API_KEY = \"simaki2SYtQQrSdkAE3rTw6jn531\"\n",
    "ENDPOINT_BASE = \"https://api.algosales.productionize.ai\"  # e.g., \"https://algorithmia.com\"\n",
    "OWNER = \"ddreakford\"\n",
    "ALGORITHM = \"xgboost_basic_sentiment_analysis\"\n",
    "ALGORITHM_VERSION = \"1.0.0\"\n",
    "\n",
    "# Instantiate and authenticate the client with an API key\n",
    "client = Algorithmia.client(API_KEY, ENDPOINT_BASE)\n",
    "\n",
    "# Invoke the algorithm\n",
    "try:\n",
    "    algo = client.algo(\"{}/{}/{}\".format(OWNER, ALGORITHM, ALGORITHM_VERSION))\n",
    "    algo.set_options(timeout=120, stdout=False)\n",
    "\n",
    "    result = algo.pipe('I am glad that I bought this. It works great!').result\n",
    "    print(result)\n",
    "\n",
    "except AlgorithmException as algoException:\n",
    "    print('AlgorithmException: ' + algoException.message)\n"
   ]
  },
  {
   "cell_type": "code",
   "execution_count": null,
   "id": "bf7f9459",
   "metadata": {},
   "outputs": [],
   "source": []
  }
 ],
 "metadata": {
  "kernelspec": {
   "display_name": "env",
   "language": "python",
   "name": "env"
  },
  "language_info": {
   "codemirror_mode": {
    "name": "ipython",
    "version": 3
   },
   "file_extension": ".py",
   "mimetype": "text/x-python",
   "name": "python",
   "nbconvert_exporter": "python",
   "pygments_lexer": "ipython3",
   "version": "3.9.4"
  }
 },
 "nbformat": 4,
 "nbformat_minor": 5
}
